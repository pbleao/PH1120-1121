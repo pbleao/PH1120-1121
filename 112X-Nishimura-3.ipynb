{
 "cells": [
  {
   "cell_type": "code",
   "execution_count": 1,
   "metadata": {},
   "outputs": [],
   "source": [
    "#===========================================================\n",
    "# WPI PHYSICS DEPARTMENT - 2020-2021\n",
    "# PH1120/21 Lab 3 - Capacitance\n",
    "# Sample code for calculating capacitance and uncertainties\n",
    "#-----------------------------------------------------------\n",
    "# Copyright Amelia Nishimura 2020 :v\n",
    "#-----------------------------------------------------------\n",
    "\n",
    "# From LoggerPro: capacitance = 1/ resistance (r) * Parameter C\n",
    "\n",
    "#Parameter C from Logger Pro is re-defined as 'CPar' below\n",
    "Cpar1 = 3.892 #find from Logger Pro fit, value 'C'\n",
    "\n",
    "cpar1_uncertainty = 0.02123 #Get from +/- fit from loggerPro\n",
    "\n",
    "R = 22000 # Use resistor value from circuit \n",
    "r_uncertainty = R*.2 #Use the tolerance band on your 22k Ohm resistor. \n",
    "#A resistor band guide can be found on the back of your board\n",
    "\n",
    "c1 = 1/(R * Cpar1) #Eq 1"
   ]
  },
  {
   "cell_type": "markdown",
   "metadata": {},
   "source": [
    "This is to find the uncertainty from the Logger Pro capacitance values. To find the uncertainty on the series and parallel capacities please see below. For help with the resistor uncertainty, a resistor band guide can be found on the back of your board. "
   ]
  },
  {
   "cell_type": "code",
   "execution_count": 2,
   "metadata": {},
   "outputs": [],
   "source": [
    "#Equation 6 Function\n",
    "def MultError(dx, x, dy, y, A):\n",
    "    ii = (dx / abs(x) ) + (dy / abs(y))\n",
    "    dA = A * ii\n",
    "    return dA"
   ]
  },
  {
   "cell_type": "code",
   "execution_count": 3,
   "metadata": {},
   "outputs": [
    {
     "name": "stdout",
     "output_type": "stream",
     "text": [
      "Eq 1 & 6: Measured (on LoggerPro) capacitance: 1.5151515151515151e-05 +/- 3.131313131313131e-06 F\n"
     ]
    }
   ],
   "source": [
    "#This is where we run through Eq 6\n",
    "c1_uncertainty = MultError(cpar1_uncertainty, Cpar1, r_uncertainty, R,c1)\n",
    "\n",
    "print(f'Eq 1 & 6: Measured (on LoggerPro) capacitance: {c1} +/- {c1_uncertainty} F')"
   ]
  },
  {
   "cell_type": "markdown",
   "metadata": {},
   "source": [
    "This is to find the theoretical capacitance and theoretical uncertainty on the capicitors in series and in parallel. Use the measured capacitance and measured uncertainty for this, rather than the value on the capacitor's sleeve. "
   ]
  },
  {
   "cell_type": "code",
   "execution_count": 4,
   "metadata": {},
   "outputs": [
    {
     "name": "stdout",
     "output_type": "stream",
     "text": [
      "Eq 2 & 5: Total capacitance (parallel): 2.424242424242424e-05 +/- 5.022222222222222e-06 F\n",
      "Eq 3 & 4: Total capacitance (series): 5.681818181818182e-06 +/- 3.018250358541781e-06 F\n"
     ]
    }
   ],
   "source": [
    "#Parameter C from Logger Pro is re-defined as 'CPar' below\n",
    "Cpar1 = 3 #find from Logger Pro fit for first capacitor\n",
    "Cpar2 = 5 # \"\" for second capacitor\n",
    "\n",
    "cpar1_uncertainty = 0.02 #Get from +/- fit from loggerPro\n",
    "cpar2_uncertainty = 0.04 \n",
    "\n",
    "R = 22000 # Use resistor value from circuit \n",
    "r_uncertainty = R*.2 #Use the tolerance band on your 22k Ohm resistor. \n",
    "#A resistor band guide can be found onthe back of your board\n",
    "\n",
    "c1 = 1/(R * Cpar1) #Eq 1\n",
    "c2 = 1/(R*Cpar2) #Eq 1\n",
    "\n",
    "c1_uncertainty = MultError(cpar1_uncertainty, Cpar1, r_uncertainty, R,c1)\n",
    "c2_uncertainty = MultError(cpar2_uncertainty, Cpar2, r_uncertainty, R,c2)\n",
    "\n",
    "# For the case where the capacitors are in parallel\n",
    "c_parallel = c1 + c2 #Eq 5\n",
    "c_parallel_uncertainty = c1_uncertainty + c2_uncertainty #Eq 6\n",
    "print(f'Eq 2 & 5: Total capacitance (parallel): {c_parallel} +/- {c_parallel_uncertainty} F')\n",
    "\n",
    "# For the case where the capacitors are in series\n",
    "c_series = (c1 * c2) / (c1 + c2)\n",
    "c_series_uncertainty = (c1_uncertainty * ((c2 / c1 + c2) ** 2)) + (c2_uncertainty * ((c1 / c1 + c2) ** 2))\n",
    "print(f'Eq 3 & 4: Total capacitance (series): {c_series} +/- {c_series_uncertainty} F')\n",
    "\n",
    "#Remember to report with the proper number of significant figures! "
   ]
  },
  {
   "cell_type": "code",
   "execution_count": null,
   "metadata": {},
   "outputs": [],
   "source": []
  }
 ],
 "metadata": {
  "kernelspec": {
   "display_name": "Python 3",
   "language": "python",
   "name": "python3"
  },
  "language_info": {
   "codemirror_mode": {
    "name": "ipython",
    "version": 3
   },
   "file_extension": ".py",
   "mimetype": "text/x-python",
   "name": "python",
   "nbconvert_exporter": "python",
   "pygments_lexer": "ipython3",
   "version": "3.7.0"
  }
 },
 "nbformat": 4,
 "nbformat_minor": 2
}
